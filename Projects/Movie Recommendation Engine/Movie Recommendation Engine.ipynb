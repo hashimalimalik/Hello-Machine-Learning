{
  "cells":[
    {
      "cell_type":"markdown",
      "source":[
        "# Description\n",
        "Build a movie recomendation engine using Python\n",
        "\n",
        "https:\/\/www.youtube.com\/watch?v=ueKXSupHz6Q&list=PLBhJnyA0V0uIP6tScPs01FW5WtSpJdmcv&index=8"
      ],
      "metadata":{
        
      }
    },
    {
      "cell_type":"code",
      "source":[
        "#Import the libraries\n",
        "import pandas as pd\n",
        "import numpy as np\n",
        "from sklearn.metrics.pairwise import cosine_similarity\n",
        "from sklearn.feature_extraction.text import CountVectorizer"
      ],
      "execution_count":0,
      "outputs":[
        
      ],
      "metadata":{
        
      }
    },
    {
      "cell_type":"code",
      "source":[
        "df = pd.read_csv"
      ],
      "execution_count":0,
      "outputs":[
        
      ],
      "metadata":{
        
      }
    }
  ],
  "metadata":{
    
  },
  "nbformat":4,
  "nbformat_minor":0
}